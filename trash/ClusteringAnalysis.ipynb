{
  "nbformat": 4,
  "nbformat_minor": 0,
  "metadata": {
    "colab": {
      "name": "ClusteringAnalysis.ipynb",
      "provenance": [],
      "collapsed_sections": [],
      "authorship_tag": "ABX9TyPYeMAS5nggwYGpZBqYYFVk",
      "include_colab_link": true
    },
    "kernelspec": {
      "name": "python3",
      "display_name": "Python 3"
    },
    "language_info": {
      "name": "python"
    }
  },
  "cells": [
    {
      "cell_type": "markdown",
      "metadata": {
        "id": "view-in-github",
        "colab_type": "text"
      },
      "source": [
        "<a href=\"https://colab.research.google.com/github/MinahilRaza/Brevitas_Fixed_Point/blob/master/ClusteringAnalysis.ipynb\" target=\"_parent\"><img src=\"https://colab.research.google.com/assets/colab-badge.svg\" alt=\"Open In Colab\"/></a>"
      ]
    },
    {
      "cell_type": "markdown",
      "source": [
        "# Clustering Analysis\n",
        "The method consists of three steps\n",
        "1. Building the correlation matrix\n",
        "1. Ordering the correlation matrix\n",
        "3. Identifying the clusters\n",
        "\n",
        "First, import the necessary python packages"
      ],
      "metadata": {
        "id": "PQYy-vGxqIKF"
      }
    },
    {
      "cell_type": "code",
      "execution_count": 115,
      "metadata": {
        "id": "ziB2kTi4j30j"
      },
      "outputs": [],
      "source": [
        "import numpy as np\n",
        "import pandas as pd\n",
        "import random\n",
        "import matplotlib.pyplot as plt\n",
        "import matplotlib.patches as patches\n",
        "import seaborn as sns\n",
        "from copy import deepcopy"
      ]
    },
    {
      "cell_type": "markdown",
      "source": [
        "## Building the Correlation Matrix\n",
        "The Z-score table T is RxC matrix with R rows and C columns. First, we calculate the correlation matrix for rows and columns. Let's consider the correlation matrix A for the rows. It is an RxR matrix. Let each row be a vector, then for R rows, we calculate a correlation value with each row."
      ],
      "metadata": {
        "id": "gdr5p8Ukqm7h"
      }
    },
    {
      "cell_type": "code",
      "source": [
        "def CreateSimilarityMatrix(X: np.ndarray, direction = 'row'):\n",
        "    '''\n",
        "    Returns the correlation matrix for rows or columns from a zscore table.\n",
        "\n",
        "    Parameters:\n",
        "        X (np.ndarray): The zscore table.\n",
        "        direction (str): 'row' for row-wise similarity matrix\n",
        "                         'col' for column-wise similarity matrix\n",
        "\n",
        "    Returns:\n",
        "        The correlation matrix for dpecified direction.   \n",
        "    '''  \n",
        "\n",
        "    if direction == 'col':\n",
        "      X = X.T\n",
        "    elif direction != 'row':\n",
        "      print(\"Incorrect value for direction. Can be \\'row\\' or \\'col\\'\")\n",
        "    \n",
        "    matrix = np.dot(X,X.T)\n",
        "    # Calculate arrays with magnitudes of vectors\n",
        "    p1 = np.sqrt(np.sum(X**2,axis=1))[:,np.newaxis]\n",
        "    p2 = np.sqrt(np.sum(X**2,axis=1))[np.newaxis,:]\n",
        "    # Normalize to find cosine\n",
        "    matrix = matrix/(p1*p2)\n",
        "\n",
        "    return matrix"
      ],
      "metadata": {
        "id": "Ph1jLM-bppYc"
      },
      "execution_count": 116,
      "outputs": []
    },
    {
      "cell_type": "code",
      "source": [
        "def RandomizeOrder(n:int):\n",
        "   '''\n",
        "    Returns the randomized kernel order\n",
        "\n",
        "    Parameters:\n",
        "        n (int): size of kernel orders.\n",
        "\n",
        "    Returns:\n",
        "        The randomized kernel order.   \n",
        "    '''\n",
        "   order = [i for i in range(0,n)]\n",
        "   random.shuffle(order)\n",
        "   return order"
      ],
      "metadata": {
        "id": "4WtClsJSBQt6"
      },
      "execution_count": 117,
      "outputs": []
    },
    {
      "cell_type": "code",
      "source": [
        "import os\n",
        "def gauss(variance):\n",
        "  # between 0 and 0.999999999999\n",
        "  x1 = np.random.uniform()\n",
        "  x2 = np.random.uniform()\n",
        "  return variance*np.sqrt( - 2*np.log(x1) )* np.cos( 2* np.pi* x2) \n",
        "\n",
        "# room for refactoring in makechangevectors\n",
        "def MakeChangeVectors(order, line1, line2, width, n, klines):\n",
        "  # reutrn change, nochange, int\n",
        "  change = []\n",
        "  nochange= []\n",
        "  nk = len(klines)\n",
        "  line1 = int(line1)\n",
        "  line2 = int(line2)\n",
        "  for i in range(0, width):\n",
        "    in1 = order[line1 + i]\n",
        "    jmax = n - klines[in1]\n",
        "    if (in1 != nk - 1):\n",
        "      jmax = klines[in1+1] - klines[in1]\n",
        "    for j in range(0, jmax):\n",
        "      change.append(klines[in1] + j)\n",
        "  if line1 < line2:\n",
        "    for i in range(line1 + width, line2 + width):\n",
        "      in1 = order[i]\n",
        "      jmax = n-klines[in1];\n",
        "      if in1 != nk-1:  \n",
        "        jmax = klines[in1+1] - klines[in1];\n",
        "      for j in range(0, jmax):\n",
        "        change.append(klines[in1] + j)\n",
        "  if line1 > line2:\n",
        "    for i in range(line2, line1):\n",
        "      in1 = order[i]\n",
        "      jmax = n-klines[in1];\n",
        "      if in1 != nk-1:  \n",
        "        jmax = klines[in1+1] - klines[in1];\n",
        "      for j in range(0, jmax):\n",
        "        change.append(klines[in1] + j)\n",
        "  for i in range(0, n):\n",
        "    if i not in change:\n",
        "      nochange.append(i)\n",
        "  return change, nochange\n",
        "\n",
        "def ChangeSegmentOrder(order,line1,line2,width):\n",
        "   # RECHECKED\n",
        "   pos = []\n",
        "   line1 = int(line1)\n",
        "   line2 = int(line2)\n",
        "   for i in range(0, width):\n",
        "     pos.append(order[line1 + i]) # can be refactored\n",
        "   if line1 < line2:\n",
        "    j = 0\n",
        "    for i in range(line1 + width, line2 + width):\n",
        "      order[line1 + j] = order[i]\n",
        "      j = j+1 #refactor\n",
        "    for i in range(0, width):\n",
        "      order[line2 + i] = pos[i]\n",
        "   if line1 > line2:\n",
        "    for i in range(line1-1, line2-1, -1): # redesign this\n",
        "      order[i + width] = order[i]\n",
        "    for i in range(0, width):\n",
        "      order[line2 + i] = pos[i]\n",
        "   return order\n",
        "\n",
        "\n",
        "\n",
        "\n",
        "def EnergyChangeReOrd(mat, l1, l2, w, n, kernelOrder, klines):\n",
        "  # need to return delta E and order\n",
        "  deltaen = 0\n",
        "  lchange, lfix = MakeChangeVectors(kernelOrder, l1, l2, w, n, klines)\n",
        "  oldorder = GetNodeOrder(kernelOrder, klines, n, 0)\n",
        "  newKernelOrder=kernelOrder\n",
        "  newKernelOrder = ChangeSegmentOrder(newKernelOrder,l1,l2,w)\n",
        "  newOrder = GetNodeOrder(newKernelOrder, klines, n, 0)\n",
        "  for i in range(0, len(lchange)):\n",
        "    for j in range(0, len(lfix)):\n",
        "      line1 = lchange[i]\n",
        "      line2 = lfix[j]\n",
        "      deltaen = deltaen + 2*mat[line2][line1]* (np.abs(newOrder[line1]- newOrder[line2])-\n",
        "                                       np.abs(oldorder[line1]-oldorder[line2]))/n\n",
        "  x = len(lchange) -1\n",
        "  for i in range(0, x):\n",
        "      for j in range(i + 1 ,len(lchange)):\n",
        "        line1 = lchange[i]\n",
        "        line2 = lchange[j]\n",
        "        deltaen = deltaen + 2*mat[line2][line1]* (np.abs(newOrder[line1]- newOrder[line2])-\n",
        "                                       np.abs(oldorder[line1]-oldorder[line2]))/n\n",
        "  return deltaen, newKernelOrder # see if you need to return order\n",
        "\n",
        "\n",
        "def AnnealStep(temperature, matrix, netSize, order, nblocks, klines):\n",
        "  # needs to return order and deltaE\n",
        "  nkernels = len(klines)\n",
        " \n",
        "  width = int(np.fabs(gauss(np.sqrt(temperature)*0.05*nkernels))) + nblocks\n",
        "  width = width- (width%nblocks)\n",
        "  #line1 = width/2 + (int)( (nkernels-width)*random.random())\n",
        "  line1 = int( (nkernels-width)*np.random.uniform())\n",
        "  #line1 = int( (nkernels-width)*0.5)\n",
        "  #line1 = line1 - width/2\n",
        "  line1 = line1 - line1%nblocks\n",
        "  line1 = np.max([line1, 0])\n",
        "  while( width > nkernels-line1 ):\n",
        "    width = int(np.fabs(gauss(np.sqrt(temperature)*0.05*nkernels))) + nblocks\n",
        "    width = width- (width%nblocks)\n",
        "  line2 = int(gauss(np.sqrt(temperature)*0.1))\n",
        "  if line2<0:\n",
        "    line2= line2 - line1\n",
        "    line2 = np.max([line2, 0])\n",
        "  else:\n",
        "    line2 = line2 + line1 + width\n",
        "    if line2 > nkernels-width:\n",
        "       line2 = nkernels-width #can be replaced by min func\n",
        "  line2 = line2 - (line2%nblocks)\n",
        "  # see if order changes in this function\n",
        "  #if line2>50:\n",
        "  deltaE, _ =  EnergyChangeReOrd( matrix, line1, line2, width, netSize, deepcopy(order), klines)\n",
        "  if temperature == 0:\n",
        "    prob = 0\n",
        "  else:\n",
        "    prob = np.exp( -deltaE/temperature )\n",
        "  if np.random.uniform() < prob:\n",
        "    # no need to return\n",
        "    order = ChangeSegmentOrder( order, line1, line2, width);\n",
        "    return deltaE, order\n",
        "  return 0, order"
      ],
      "metadata": {
        "id": "nbNblLJFYoAp"
      },
      "execution_count": 118,
      "outputs": []
    },
    {
      "cell_type": "code",
      "source": [
        "# GetNodeOrder\n",
        "\n",
        "# this needs to be refactored. remove redundant lines of code\n",
        "def GetNodeOrder(kernelOrder, klines, netSize:int, option: int):\n",
        "  # RECHECKED\n",
        "  nodeOrder = np.zeros((netSize))\n",
        "  if option == 0:\n",
        "    k = 0\n",
        "    for i in range(0, len(kernelOrder)):\n",
        "      jmax = netSize-klines[kernelOrder[i]]\n",
        "      if kernelOrder[i]!=len(kernelOrder)-1:\n",
        "        jmax=klines[kernelOrder[i]+1]-klines[kernelOrder[i]]\n",
        "      for j in range(0, jmax):\n",
        "        nodeOrder[klines[kernelOrder[i]]+j]=k\n",
        "        k = k + 1\n",
        "  if option == 1:\n",
        "    k = 0;\n",
        "    for i in range(0, len(kernelOrder)):\n",
        "      jmax = netSize-klines[kernelOrder[i]]\n",
        "      if kernelOrder[i]!=len(kernelOrder)-1:\n",
        "        jmax=klines[kernelOrder[i]+1]-klines[kernelOrder[i]]\n",
        "\n",
        "      for j in range(0, jmax):\n",
        "        nodeOrder[k]=klines[kernelOrder[i]]+j\n",
        "        k = k + 1\n",
        "  return nodeOrder"
      ],
      "metadata": {
        "id": "tZs6aYSlBLMR"
      },
      "execution_count": 119,
      "outputs": []
    },
    {
      "cell_type": "code",
      "source": [
        "def ComputeEnergy(mat, netSize, kernelOrder, klines):\n",
        "  # only needs to return the energy\n",
        "  energy = 0.0\n",
        "  nodeOrder = GetNodeOrder(kernelOrder, klines, netSize, 1 )\n",
        "  for i in range(0, netSize-1):\n",
        "    for j in range(i+1, netSize):\n",
        "      a = int(nodeOrder[i])\n",
        "      b = int(nodeOrder[j])\n",
        "      energy = energy + 2*np.abs(i-j)*mat[b][a]/netSize\n",
        "  return energy"
      ],
      "metadata": {
        "id": "kEzbvxIcRpw2"
      },
      "execution_count": 120,
      "outputs": []
    },
    {
      "cell_type": "code",
      "source": [
        "# GetKernels Function\n",
        "\n",
        "def GetKernels(similarityMatrix:np.ndarray, n:int, translationTable:list):\n",
        "  '''\n",
        "    Rearranges similarity matrix and finds kernel.\n",
        "\n",
        "    Parameters:\n",
        "        similarityMatrix (np.ndarray): The similarity matrix (row or col wise).\n",
        "        n (int): dimensions of similarityMatrix are n*n\n",
        "        translationTable (list): the initial translation table            \n",
        "\n",
        "    Returns:\n",
        "        similarityMatrixNew: The new similarity matrix \n",
        "        kernelOrder: The order of kernels\n",
        "        kkline: list of lines at which each kernel starts\n",
        "        n: dimension of similarity matrix\n",
        "        translationTableNew: the new translation table\n",
        "        kernelList: The list of nodes inside each kernel\n",
        "   \n",
        "    '''  \n",
        "  nn = n\n",
        "  kernelsize = []\n",
        "  knodelist = []\n",
        "  # NOTE: list of list\n",
        "  kernelList = [] # list of nodes inside each kernel\n",
        "  kernelOrder = [] # order of kernels\n",
        "  kkline = [] # list of lines at which each kernel starts\n",
        "  assignedNodes = [] # previously assigned nodes\n",
        "  translationTableNew = []\n",
        "  # NOTE: see if you need sim matrix new, fix length of transtablenew\n",
        "  nodeCount = 0\n",
        "  kernelCount = 0\n",
        "  \n",
        "  for i in range(0, nn):\n",
        "    if i not in assignedNodes:\n",
        "      knodelist.append(nodeCount)\n",
        "      kkline.append(nodeCount)\n",
        "      kernelOrder.append(kernelCount)\n",
        "      assignedNodes.append(i)\n",
        "      # see if this needs to be changed\n",
        "      translationTableNew.append(translationTable[i])\n",
        "      nodeCount =  nodeCount + 1\n",
        "      for j in range(i+1, nn):\n",
        "        if similarityMatrix[j][i] == 1:\n",
        "          knodelist.append(nodeCount)\n",
        "          assignedNodes.append(j)\n",
        "          translationTableNew.append(translationTable[j])\n",
        "          nodeCount =  nodeCount + 1\n",
        "      kernelCount = kernelCount + 1\n",
        "      kernelList.append(knodelist)\n",
        "      kernelsize.append(len(knodelist))\n",
        "      knodelist = [] # clear list\n",
        "  nn = len(assignedNodes)\n",
        "  similarityMatrixNew = np.zeros((nn,nn))\n",
        "  for i in range(0, len(assignedNodes)):\n",
        "    for j in range(i, len(assignedNodes)):\n",
        "      similarityMatrixNew[i][j] = similarityMatrix[assignedNodes[j]][assignedNodes[i]]\n",
        "      similarityMatrixNew[j][i] = similarityMatrix[assignedNodes[j]][assignedNodes[i]]\n",
        "  \n",
        "  n = len(kernelList)\n",
        "  return similarityMatrixNew, kernelOrder, kkline, n, translationTableNew, kernelList\n"
      ],
      "metadata": {
        "id": "tm37PMl2WXHQ"
      },
      "execution_count": 121,
      "outputs": []
    },
    {
      "cell_type": "code",
      "source": [
        "def AnnealIter(temperature: float, matrix, nsteps, n, order, energy, nblocks, kline):\n",
        "  # need to return energy and order\n",
        "  for step in range(0, nsteps):\n",
        "    deltaen, order =  AnnealStep(temperature, matrix, n, order, nblocks, kline)\n",
        "    energy = energy + deltaen\n",
        "  return order, energy"
      ],
      "metadata": {
        "id": "IvJM4ukYYXaP"
      },
      "execution_count": 122,
      "outputs": []
    },
    {
      "cell_type": "code",
      "source": [
        "def OrderKernel(similarityMatrix,randomization, T, factor):\n",
        "  EPS = 0.00000001\n",
        "  n = similarityMatrix.shape[0]\n",
        "  translationTable = [i for i in range(0, n)]\n",
        "  similarityMatrix, kernelOrder, klines, nkernels, translationTable,\\\n",
        "      kernels = GetKernels(similarityMatrix, n, translationTable)\n",
        "  if randomization == 1:\n",
        "    kernelOrder  = RandomizeOrder(n)\n",
        "  energyold = ComputeEnergy(similarityMatrix, n, kernelOrder, klines)\n",
        "  energy = energyold\n",
        "  count = 0\n",
        "  nblocks = 1\n",
        "  # atleast perform 10 steps\n",
        "  Nsteps = np.max([int(0.01*(nkernels/nblocks)**2), 10])\n",
        "  iter = 0\n",
        "  if nkernels >2:\n",
        "    while count<20:\n",
        "      kernelOrder, energy = AnnealIter(T,similarityMatrix, Nsteps, n, kernelOrder, energy, nblocks, klines)\n",
        "      if np.fabs( energyold - energy ) < EPS: \n",
        "          count = count + 1\n",
        "          \n",
        "      else:\n",
        "        count = 0\n",
        "      energyold = energy\n",
        "      T = T* factor\n",
        "      iter = iter + 1\n",
        "  sim = np.zeros((n,n))\n",
        "  nodeOrder = GetNodeOrder( kernelOrder, klines, n, 1)\n",
        "  for i in range(0, n):\n",
        "    i1 = int(nodeOrder[i])\n",
        "    for j in range(0,n):\n",
        "      j1 = int(nodeOrder[j])\n",
        "      sim[i][j] = similarityMatrix[j1][i1]\n",
        "  return kernelOrder, sim"
      ],
      "metadata": {
        "id": "-vl9NzEFZrsm"
      },
      "execution_count": 123,
      "outputs": []
    },
    {
      "cell_type": "code",
      "source": [
        "def VisualizeClusters(unordered_mat, ordered_mat, labels, kernelOrder, partition, save, filename):\n",
        "  fig, (ax1, ax2) = plt.subplots(1,2, figsize=(20,8))\n",
        "  sns.heatmap(unordered_mat, cmap= 'YlOrRd', ax=ax1, vmin=-1, vmax=1)\n",
        "  ax1.set_title('Unordered Matrix')\n",
        "  ax1.set_xticks(np.arange(len(labels))+0.5)\n",
        "  ax1.set_xticklabels(labels, rotation = 90)\n",
        "  ax1.set_yticks(np.arange(len(labels))+0.5)\n",
        "  ax1.set_yticklabels(labels, rotation = 0)\n",
        "\n",
        "  sns.heatmap(ordered_mat, cmap= 'YlOrRd', ax=ax2, vmin=-1, vmax=1)\n",
        "  ax2.set_title('Ordered Matrix')\n",
        "  ax2.set_xticks(np.arange(len(labels))+0.5)\n",
        "  ax2.set_xticklabels(labels[kernelOrder], rotation = 90)\n",
        "  ax2.set_yticks(np.arange(len(labels))+0.5)\n",
        "  ax2.set_yticklabels(labels[kernelOrder], rotation =0)\n",
        "\n",
        "  # plot cluster boundaries\n",
        "  for part in partition:\n",
        "    ax2.add_patch(\n",
        "      patches.Rectangle(\n",
        "          (part[0], part[0]),\n",
        "          part[1]-part[0]+1,\n",
        "          part[1]-part[0]+1,\n",
        "          edgecolor='black',\n",
        "          fill=False,\n",
        "          lw=4\n",
        "      ) )\n",
        "\n",
        "  fig.tight_layout()\n",
        "  if save:\n",
        "    plt.savefig(filename,dpi=200)\n",
        "  plt.show()"
      ],
      "metadata": {
        "id": "w7lNjxOMFe8I"
      },
      "execution_count": 124,
      "outputs": []
    },
    {
      "cell_type": "code",
      "source": [
        "zscores = pd.read_csv('matrix2.csv') #add options for other formats\n",
        "\n",
        "my_data = zscores[zscores.columns[1:]].to_numpy()\n",
        "zscores = zscores.set_index('ZSCORES')\n",
        "\n",
        "S1 = CreateSimilarityMatrix(my_data, 'row')\n",
        "S2 = CreateSimilarityMatrix(my_data, 'col')\n",
        "\n",
        "NoofRows = S1.shape[0]\n",
        "NoofCols = S2.shape[0]"
      ],
      "metadata": {
        "id": "suVDw0JhZUh6"
      },
      "execution_count": 125,
      "outputs": []
    },
    {
      "cell_type": "code",
      "source": [
        "def GetKernelRows(similarityMatrix, netSize):\n",
        "    kernelRows = [0]\n",
        "    nrow = 0\n",
        "    for row in range(0, netSize):\n",
        "     for col in range(row+1, netSize):\n",
        "      row = col\n",
        "      if similarityMatrix[col][nrow]!=1:\n",
        "        kernelRows.append(col)\n",
        "        nrow = col\n",
        "        break\n",
        "    return kernelRows"
      ],
      "metadata": {
        "id": "C-tS-BFABhHG"
      },
      "execution_count": 126,
      "outputs": []
    },
    {
      "cell_type": "code",
      "source": [
        "def InitializePartition(nbox, netSize):\n",
        "  partition = []\n",
        "  tempPart = [0]\n",
        "  node = 0\n",
        "  for i in range(0,nbox-1):\n",
        "    node += int((netSize - nbox + i - node)* np.random.uniform())\n",
        "    tempPart.append(node)\n",
        "    partition.append(tempPart)\n",
        "    node = node + 1\n",
        "    tempPart = [node]\n",
        "  tempPart.append(netSize-1)\n",
        "  partition.append(tempPart)\n",
        "  return partition"
      ],
      "metadata": {
        "id": "X_Hcou5wD5eM"
      },
      "execution_count": 127,
      "outputs": []
    },
    {
      "cell_type": "code",
      "source": [
        "def AddPartition(partition, nPart, kernel):\n",
        "  dummy = []\n",
        "  partitionnew = []\n",
        "  for  j in range(0, len(partition)):\n",
        "    if j== nPart:\n",
        "      dummy = []\n",
        "      dummy.append(partition[j][0])\n",
        "      dummy.append(kernel)\n",
        "      partitionnew.append(dummy)\n",
        "      dummy = []\n",
        "      dummy.append(kernel+1)\n",
        "      dummy.append(partition[j][1])\n",
        "      partitionnew.append(dummy)\n",
        "    else:\n",
        "      partitionnew.append(partition[j])\n",
        "  return partitionnew\n"
      ],
      "metadata": {
        "id": "JsevsrZlR0fp"
      },
      "execution_count": 128,
      "outputs": []
    },
    {
      "cell_type": "code",
      "source": [
        "def ComputeLeastSquares(similarityMatrix, partition, netSize, kernelRows):\n",
        "  numberBoxes = len(partition)\n",
        "  leastSquares = 0\n",
        "  boxAverage=0\n",
        "  boxAverageSq=0\n",
        "  outAverage=0\n",
        "  outAverageSq=0\n",
        "  AverageTotal=0\n",
        "  AverageSqTotal=0\n",
        "  inCount=0\n",
        "  outCount=0\n",
        "  totalCount = 0\n",
        "  tempMean = []\n",
        "  tempCount = []\n",
        "  for j in range(0, numberBoxes):\n",
        "    inCount=0\n",
        "    boxAverage=0\n",
        "    boxAverageSq=0\n",
        "    for i in range(partition[j][0], partition[j][1]+1):\n",
        "      row = kernelRows[i]\n",
        "      nodesInKerneli = netSize - row\n",
        "      if i< len(kernelRows)-1:\n",
        "        nodesInKerneli = kernelRows[i+1] - row\n",
        "      inCount = inCount + nodesInKerneli * (nodesInKerneli + 1)/2\n",
        "      boxAverage = boxAverage+ similarityMatrix[row][row]*nodesInKerneli*(nodesInKerneli + 1)/2\n",
        "      boxAverageSq = boxAverageSq+ similarityMatrix[row][row]*similarityMatrix[row][row]*nodesInKerneli*(nodesInKerneli + 1)/2\n",
        "      for k in range(i+1, len(kernelRows)):\n",
        "        col = kernelRows[k]\n",
        "        nodesInKernelk = netSize - col\n",
        "        if k< len(kernelRows)-1:\n",
        "          nodesInKernelk = kernelRows[k+1] - col\n",
        "        if k<= partition[j][1]:\n",
        "          inCount = inCount + nodesInKerneli* nodesInKernelk\n",
        "          boxAverage = boxAverage+ similarityMatrix[col][row]*nodesInKerneli*nodesInKernelk\n",
        "          boxAverageSq = boxAverageSq+ similarityMatrix[col][row]*similarityMatrix[col][row]*nodesInKerneli*nodesInKernelk\n",
        "          \n",
        "        else:\n",
        "          outCount = outCount + nodesInKerneli* nodesInKernelk\n",
        "          outAverage = outAverage + similarityMatrix[col][row] *nodesInKerneli * nodesInKernelk\n",
        "          outAverageSq = outAverageSq + similarityMatrix[col][row]**2 *nodesInKerneli * nodesInKernelk\n",
        "    \n",
        "\n",
        "    tempMean.append(boxAverage)\n",
        "    tempCount.append(inCount)\n",
        "    totalCount = totalCount + inCount\n",
        "    AverageSqTotal = AverageSqTotal + boxAverageSq\n",
        "    if inCount>0:\n",
        "       AverageTotal =  AverageTotal + boxAverage**2/inCount\n",
        "  tempMean.append(outAverage)\n",
        "  tempCount.append(outCount)\n",
        "  if outCount>0:\n",
        "       AverageSqTotal = AverageSqTotal + outAverageSq\n",
        "       AverageTotal =  AverageTotal + outAverage**2/outCount\n",
        "  leastSquares = AverageSqTotal - AverageTotal\n",
        "  totalCount = totalCount + outCount\n",
        "  \n",
        "  return tempMean, tempCount, leastSquares/ totalCount\n",
        "\n"
      ],
      "metadata": {
        "id": "uRH29k5dVws7"
      },
      "execution_count": 129,
      "outputs": []
    },
    {
      "cell_type": "code",
      "source": [
        "def ComputeDeltaLeastSq(netSize, width, box, neig, meanChange, mean, count, boxSize1, boxSize2):\n",
        "  deltaEn = 0\n",
        "  nbox1p = count[box] - width*(2*boxSize1 - width + 1)/2\n",
        "  nbox2p = count[box+neig] + width*(2*boxSize2 + width + 1)/2\n",
        "  nboxop = count[-1] - (width*(boxSize2 - boxSize1 + width))\n",
        "  deltaMeanBox1 = 0\n",
        "  if nbox1p >0:\n",
        "    deltaMeanBox1 = deltaMeanBox1 + (mean[box]+meanChange[0])*(mean[box]+meanChange[0])/nbox1p\n",
        "  if count[box]>0:\n",
        "    deltaMeanBox1 =  deltaMeanBox1 - mean[box]*mean[box]/count[box]\n",
        "  deltaMeanBox2 = 0\n",
        "  if nbox2p >0:\n",
        "    deltaMeanBox2 = deltaMeanBox2 + (mean[box+neig]+meanChange[1])*(mean[box+neig]+meanChange[1])/nbox2p\n",
        "  if count[box+neig]>0:\n",
        "    deltaMeanBox2 = deltaMeanBox2 - mean[box+neig]*mean[box+neig]/count[box+neig]\n",
        "  deltaMeanOut= 0\n",
        "  if nboxop >0:\n",
        "    deltaMeanOut = deltaMeanOut + (mean[-1]+meanChange[2])*(mean[-1]+meanChange[2])/nboxop\n",
        "  if count[len(count)-1] > 0:\n",
        "    deltaMeanOut = deltaMeanOut - mean[-1]*mean[-1]/count[-1]\n",
        "  deltaMean1 = -deltaMeanBox1\n",
        "  deltaMean2 = -deltaMeanBox2\n",
        "  deltaOut = -deltaMeanOut\n",
        "  deltaEn = deltaMean1 + deltaMean2 + deltaOut\n",
        "  return 2*deltaEn / (netSize*netSize+netSize)"
      ],
      "metadata": {
        "id": "d1aSl9tKsxUN"
      },
      "execution_count": 130,
      "outputs": []
    },
    {
      "cell_type": "code",
      "source": [
        "def ComputeChanges(simMat, kernelChange, kernelStay1, kernelStay2, netSize, kernelRows):\n",
        "  average = 0 \n",
        "  deltaLeastSq = 0\n",
        "  avv = 0\n",
        "  mean = []\n",
        "  \n",
        "  for i in range(kernelChange[0], kernelChange[1]+1):\n",
        "    row =  kernelRows[i]\n",
        "    nodesInKerneli = netSize - row\n",
        "    if i < len(kernelRows)-1:\n",
        "      nodesInKerneli = kernelRows[i+1] - row\n",
        "    average = average + simMat[row][row] * nodesInKerneli* (nodesInKerneli + 1)/2\n",
        "    avv = avv + simMat[row][row] * nodesInKerneli* (nodesInKerneli +1)/2  \n",
        "    for j in range(i+1, kernelChange[1]+1):\n",
        "      col = kernelRows[j]\n",
        "      nodesInKernelj = netSize - col\n",
        "      if (j < len(kernelRows)-1):\n",
        "        nodesInKernelj = kernelRows[j+1]-kernelRows[j];\n",
        "      average = average +  simMat[col][row]\t* nodesInKerneli* nodesInKernelj\n",
        "      avv = avv + simMat[col][row]* nodesInKerneli* nodesInKernelj\n",
        "    for j in range(kernelStay1[0], kernelStay1[1]+1):\n",
        "      col = kernelRows[j]\n",
        "      nodesInKernelj = netSize - col\n",
        "      if (j < len(kernelRows)-1):\n",
        "        nodesInKernelj = kernelRows[j+1]-kernelRows[j];\n",
        "      average = average +  simMat[col][row]\t* nodesInKerneli* nodesInKernelj\n",
        "    for j in range(kernelStay2[0], kernelStay2[1]+1):\n",
        "      col = kernelRows[j]\n",
        "      nodesInKernelj = netSize - col\n",
        "      if (j < len(kernelRows)-1):\n",
        "        nodesInKernelj = kernelRows[j+1]-kernelRows[j];\n",
        "      avv = avv +  simMat[col][row]\t* nodesInKerneli* nodesInKernelj\n",
        "  mean.append(-average)\n",
        "  mean.append(avv)\n",
        "  mean.append(average-avv)\n",
        "  return mean\n",
        "      "
      ],
      "metadata": {
        "id": "dKFtM_770jU7"
      },
      "execution_count": 131,
      "outputs": []
    },
    {
      "cell_type": "code",
      "source": [
        "def GetCount(kernelIni, kernelEnd, kernelRows, netSize):\n",
        "  nodeCount = 0\n",
        "  for kernel in range(kernelIni, kernelEnd+1):\n",
        "    kernelSize = netSize - kernelRows[kernel]\n",
        "    if kernel < len(kernelRows) -1:\n",
        "      kernelSize = kernelRows[kernel +1 ] - kernelRows[kernel]\n",
        "    nodeCount = nodeCount + kernelSize\n",
        "  return nodeCount"
      ],
      "metadata": {
        "id": "laUgG37jsIyG"
      },
      "execution_count": 132,
      "outputs": []
    },
    {
      "cell_type": "code",
      "source": [
        "def UpdatePartition( width, box, neig, partition, mean, meanChange, count, kernelRows, netSize):\n",
        "  nBox1 = GetCount(partition[box][0],partition[box][1], kernelRows, netSize )\n",
        "  nBox2 = GetCount(partition[box+neig][0],partition[box+neig][1], kernelRows, netSize )\n",
        "\n",
        "  nbox1p = count[box] - width*(2*nBox1 - width + 1)/2\n",
        "  nbox2p = count[box+neig] + width*(2*nBox2 + width + 1)/2\n",
        "  nboxop = count[-1] - (width*(nBox2 - nBox1 + width))\n",
        "  kernelWidth = 1\n",
        "  if neig == 1:\n",
        "    partition[box][1] = partition[box][0]-kernelWidth\n",
        "    partition[box+neig][0] = partition[box][1]+1\n",
        "  if neig == -1:\n",
        "    partition[box+neig][1] = partition[box][0]+kernelWidth-1\n",
        "    partition[box][0] = partition[box][0]+kernelWidth\n",
        "  mean[box] = mean[box]+ meanChange[0]\n",
        "  mean[box+neig] = mean[box+neig]+ meanChange[1]\n",
        "  mean[-1] = mean[-1]+ meanChange[2]\n",
        "\n",
        "  count[box] = nbox1p\n",
        "  count[box+neig] = nbox2p\n",
        "  count[-1] = nboxop"
      ],
      "metadata": {
        "id": "vPf3PlFCw5h1"
      },
      "execution_count": 133,
      "outputs": []
    },
    {
      "cell_type": "code",
      "source": [
        "def GetBestSplit(partition, nPart,similarityMatrix, netSize, leastSqOld, leastSqMin, kernelRows):\n",
        "  kernelChange = []\n",
        "  kernelStay1 = []\n",
        "  kernelStay2 = []\n",
        "  partitionOld = AddPartition(partition, nPart, partition[nPart][0])\n",
        "  partitionTemp = partitionOld\n",
        "  mean, count, leastSq = ComputeLeastSquares(similarityMatrix, partition, netSize, kernelRows)\n",
        "  nodeMin = partition[nPart][0]\n",
        "  leastSqMin = leastSq\n",
        "  for j in range(partition[nPart][0]+1,partition[nPart][1]):\n",
        "    kernelChange = []\n",
        "    kernelStay1 = []\n",
        "    kernelStay2 = []\n",
        "    kernelStay1.append(j+1)\n",
        "    kernelStay1.append(partition[nPart][1])\n",
        "    kernelStay1.append(partition[nPart][0])\n",
        "    kernelStay1.append(j-1)\n",
        "    kernelChange.append(j)\n",
        "    kernelChange.append(j)\n",
        "    meanChange = ComputeChanges(similarityMatrix, kernelChange, kernelStay1, kernelStay2, netSize, kernelRows)\n",
        "    nBox1 = GetCount(partition[nPart][0], j-1, kernelRows, netSize)\n",
        "    nBox2 = GetCount(j, partition[nPart][1], kernelRows, netSize)\n",
        "    \n",
        "    width = kernelRows[j+1] - kernelRows[j]\n",
        "    deltaLeastSq = ComputeDeltaLeastSq(netSize, width, nPart+1, -1, meanChange,\n",
        "\t\t\t      mean, count, nBox2, nBox1 )\n",
        "    UpdatePartition( width, nPart+1, -1, partitionOld, mean,\n",
        "\t\t     meanChange, count, kernelRows, netSize)\n",
        "    leastSq = leastSq + deltaLeastSq\n",
        "    if leastSq < leastSqMin - 1e-8:\n",
        "      leastSqMin = leastSq\n",
        "      nodeMin=j\n",
        "  result = []\n",
        "  if leastSqMin < leastSqOld - 1e-8:\n",
        "    result.append(1)\n",
        "    result.append(nodeMin)\n",
        "    result.append(nodeMin)\n",
        "  else:\n",
        "    result.append(0)\n",
        "    result.append(-1)\n",
        "    leastSqMin = 10000\n",
        "  return result\n",
        "\n",
        "\n"
      ],
      "metadata": {
        "id": "7e_nAgyvPt4t"
      },
      "execution_count": 134,
      "outputs": []
    },
    {
      "cell_type": "code",
      "source": [
        "def SplitPartition(partition, label, similarityMatrix, netSize, leastSqOld, kernelRows):\n",
        "  partitionNew = []\n",
        "  labelNew = []\n",
        "  splitResult = []\n",
        "  leastSq = leastSqOld\n",
        "  nSplit = -1\n",
        "  for i in range(0, len(partition)):\n",
        "    result = GetBestSplit(partition, i, similarityMatrix, netSize, leastSqOld, leastSqMin, kernelRows)\n",
        "    splitResult.append(result)\n",
        "    if leastSqMin < leastSq - 1e-8:\n",
        "      nSplit = i\n",
        "      leastSq = leastSqMin\n",
        "  for i in range(0, len(partition)):\n",
        "    if i== nSplit:\n",
        "      dummy= []\n",
        "      dummy.append(partition[i][0])\n",
        "      dummy.append(splitResult[i][1])\n",
        "      labelNew.append(1)\n",
        "      partitionNew.append(dummy)\n",
        "      dummy = []\n",
        "      dummy.append(splitResult[i][1]+1)\n",
        "      dummy.append(partition[i][1])\n",
        "      partitionNew.append(dummy)\n",
        "      labelNew.append(1)\n",
        "    else:\n",
        "      partitionNew.append(partition[i])\n",
        "      labelNew.append(0)\n",
        "\n",
        "  partition =  partitionNew\n",
        "  label = labelNew\n",
        "  if nSplit != -1:\n",
        "    leastSquares = ComputeLeastSquares(similarityMatrix, partitionNew, netSize, kernelRows)\n",
        "    leastSqOld = leastSq"
      ],
      "metadata": {
        "id": "GA3AvqVxER7A"
      },
      "execution_count": 135,
      "outputs": []
    },
    {
      "cell_type": "code",
      "source": [
        "def FindOptimalPartition(partition, label, similarityMatrix, netSize, leastSqOld, partHist, leastSqHist, kernelRows):\n",
        "  count = 0\n",
        "  nbox = 0\n",
        "  while count == 0:\n",
        "    SplitPartition(partition, label, similarityMatrix, netSize, leastSqOld, kernelRows)\n",
        "    count = 1\n",
        "    for i in range(0, len(partition)):\n",
        "      if label[i]==1:\n",
        "        count = 0\n",
        "        break\n",
        "      nbox = nbox +1\n",
        "      leastSqHist.append(leastSqOld)\n",
        "      partHist.append(partition)"
      ],
      "metadata": {
        "id": "Wj48vdw9uSfw"
      },
      "execution_count": 136,
      "outputs": []
    },
    {
      "cell_type": "code",
      "source": [
        "def GetAnyBestSplit(partition, nPart, similarityMatrix, netSize, leastSqOld, leastSqMin, kernelRows):\n",
        "  kernelChange = []\n",
        "  kernelStay1 = []\n",
        "  kernelStay2 = []\n",
        "  partitionOld =partitionTemp = AddPartition(partition, nPart, partition[nPart][0])\n",
        "  mean, count, leastSq = ComputeLeastSquares(similarityMatrix, partitionTemp, netSize, kernelRows)\n",
        "  nodeMin = partition[nPart][0]\n",
        "  leastSqMin = leastSq\n",
        "  for j in range(partition[nPart][0]+1,partition[nPart][1]):\n",
        "    kernelChange = []\n",
        "    kernelStay1 = []\n",
        "    kernelStay2 = []\n",
        "    kernelStay1.append(j+1)\n",
        "    kernelStay1.append(partition[nPart][1])\n",
        "    kernelStay2.append(partition[nPart][0])\n",
        "    kernelStay2.append(j-1)\n",
        "    kernelChange.append(j)\n",
        "    kernelChange.append(j)\n",
        "    meanChange = ComputeChanges(similarityMatrix, kernelChange, kernelStay1, kernelStay2, netSize, kernelRows)\n",
        "    nBox1 = GetCount(partition[nPart][0], j-1, kernelRows, netSize)\n",
        "    nBox2 = GetCount(j, partition[nPart][1], kernelRows, netSize)\n",
        "    width = kernelRows[j+1] - kernelRows[j]\n",
        "    deltaLeastSq = ComputeDeltaLeastSq(netSize, width, nPart+1, -1, meanChange,\n",
        "\t\t\t      mean, count, nBox2, nBox1 )\n",
        "    UpdatePartition( width, nPart+1, -1, partitionOld, mean,\n",
        "\t\t     meanChange, count, kernelRows, netSize)\n",
        "    leastSq = leastSq + deltaLeastSq\n",
        "    if leastSq < leastSqMin - 1e-8:\n",
        "      leastSqMin = leastSq\n",
        "      nodeMin=j\n",
        "  result = []\n",
        "  result.append(1)\n",
        "  result.append(nodeMin)\n",
        "  result.append(nodeMin)\n",
        "  return result, leastSqMin"
      ],
      "metadata": {
        "id": "Vd-ZKHcGCQK6"
      },
      "execution_count": 137,
      "outputs": []
    },
    {
      "cell_type": "code",
      "source": [
        "def SplitPartitionAlways(partition, label, simMatrix, netSize, leastSqOld, kernelRows):\n",
        "  splitResult = []\n",
        "  nSplit = -1\n",
        "  leastSq = 10000\n",
        "  leastSqMin = 0\n",
        "  labelNew = []\n",
        "  partitionNew = []\n",
        "  for i in range(0, len(partition)):\n",
        "    result, leastSqMin = GetAnyBestSplit(partition, i, simMatrix, netSize, leastSqOld, leastSqMin, kernelRows)\n",
        "    splitResult.append(result)\n",
        "    if partition[i][1]!= partition[i][0]:\n",
        "      if leastSqMin < leastSq -1e-8:\n",
        "        nSplit = i\n",
        "        leastSq = leastSqMin\n",
        "  for i in range(0, len(partition)):\n",
        "    if i== nSplit:\n",
        "      dummy= []\n",
        "      dummy.append(partition[i][0])\n",
        "      dummy.append(splitResult[i][1])\n",
        "      labelNew.append(1)\n",
        "      partitionNew.append(dummy)\n",
        "      dummy = []\n",
        "      dummy.append(splitResult[i][1]+1)\n",
        "      dummy.append(partition[i][1])\n",
        "      partitionNew.append(dummy)\n",
        "      labelNew.append(1)\n",
        "    else:\n",
        "      partitionNew.append(partition[i])\n",
        "      labelNew.append(0)\n",
        "\n",
        "  partition =  partitionNew\n",
        "  label = labelNew\n",
        "  if nSplit != -1:\n",
        "    leastSquares = ComputeLeastSquares(simMatrix, partitionNew, netSize, kernelRows)\n",
        "    leastSqOld = leastSq\n",
        "  return partitionNew, labelNew, leastSq\n"
      ],
      "metadata": {
        "id": "elsQaQsWA_YV"
      },
      "execution_count": 138,
      "outputs": []
    },
    {
      "cell_type": "code",
      "source": [
        "def FindOptimalPartition(partition, label, simMatrix, netSize, leastSqOld, partHist, leastSqHist, nBox, kernelRows):\n",
        "  min = len(kernelRows)-1\n",
        "  #min = np.min([min,nBox])\n",
        "  if nBox<min:\n",
        "    min = nBox\n",
        "  i = 0\n",
        "  while len(partition)<min:\n",
        "  #i=0\n",
        "  #while i<5:\n",
        "    i=i+1\n",
        "    (\"Iteration no. \", i)\n",
        "    partition, label, leastSqOld = SplitPartitionAlways( partition, label, simMatrix, netSize, leastSqOld, kernelRows)\n",
        "    leastSqHist.append(leastSqOld)\n",
        "    partHist.append(partition)\n"
      ],
      "metadata": {
        "id": "DB9w9E8CAUz2"
      },
      "execution_count": 139,
      "outputs": []
    },
    {
      "cell_type": "code",
      "source": [
        "def GetBIC(L, n, kp):\n",
        "  k = 2 * kp + 1\n",
        "  return n * np.log(L) + k * np.log( n )\n",
        "def GetBestPartitionBIC(leastSq,  partitionHist, lSqHist,n):\n",
        "  part = -1\n",
        "  min = 10000\n",
        "  max = 0\n",
        "  for i in range(0, len(lSqHist)):\n",
        "    bic = GetBIC(lSqHist[i], n, len(partitionHist[i]))\n",
        "    if bic<min:\n",
        "      min = bic\n",
        "      part = i\n",
        "    max = np.max([bic, max])\n",
        "  if part != -1:\n",
        "    return partitionHist[part]\n",
        "  return partitionHist[-1]"
      ],
      "metadata": {
        "id": "fmV626diNW7Z"
      },
      "execution_count": 140,
      "outputs": []
    },
    {
      "cell_type": "code",
      "source": [
        "def FindBestPartitionBIC(sim, n):\n",
        "  average = np.append(sim, np.ones((n,1)), axis=1).mean()\n",
        "  variance = (np.append(sim, np.ones((n,1)), axis=1)**2).mean()\n",
        "  kernelRows = GetKernelRows(sim, n)\n",
        "  partition = InitializePartition(1, n)\n",
        "  label = []\n",
        "  leastSqOld = 0\n",
        "  leastSqHist=[]\n",
        "  leastSq = 0\n",
        "  partitionHist = []\n",
        "  FindOptimalPartition(partition, label, sim, n, leastSqOld, partitionHist, leastSqHist,10, kernelRows)\n",
        "  partition = GetBestPartitionBIC(leastSq, partitionHist, leastSqHist, len(partitionHist) )\n",
        "  return partition"
      ],
      "metadata": {
        "id": "_SzR4kky7Bok"
      },
      "execution_count": 141,
      "outputs": []
    },
    {
      "cell_type": "code",
      "source": [
        "def VisualizeZscoreMatrix(zscores, col_labels, row_labels, kernelOrder_rows, kernelOrder_cols,partition_rows, partition_cols):\n",
        "  x1 = np.abs(zscores.min().min())\n",
        "  x2 = np.abs(zscores.max().max())\n",
        "  limit = np.max([x1, x2])\n",
        "  \n",
        "  df = zscores[col_labels[kernelOrder_cols]].loc[ row_labels[kernelOrder_rows]]\n",
        "  fig, ax = plt.subplots(figsize=(20,8))\n",
        "  sns.heatmap(df, fmt=\".2f\", cmap='coolwarm', vmin=-limit, vmax=limit)\n",
        "  for part_row in partition_rows:\n",
        "    for part_col in partition_cols:\n",
        "        ax.add_patch(\n",
        "            patches.Rectangle(\n",
        "                (part_col[0], part_row[0]),\n",
        "                part_col[1]-part_col[0]+1,\n",
        "                part_row[1]-part_row[0]+1,\n",
        "                edgecolor='red',\n",
        "                fill=False,\n",
        "                lw=2\n",
        "            ) )\n",
        "\n",
        "\n",
        "  ax.set_title('Clusters within Z-score Matrix', fontsize= 20)\n",
        "  plt.savefig(\"Zscore.png\",dpi=200,  bbox_inches = 'tight')"
      ],
      "metadata": {
        "id": "IkeNJuOSn5gc"
      },
      "execution_count": 142,
      "outputs": []
    },
    {
      "cell_type": "code",
      "source": [
        "VisualizeZscoreMatrix(zscores, col_labels, row_labels, kernelOrder_rows, kernelOrder_cols,partition_rows, partition_cols)"
      ],
      "metadata": {
        "colab": {
          "base_uri": "https://localhost:8080/",
          "height": 615
        },
        "id": "VMVGFqzroIX8",
        "outputId": "e4185bb7-5c53-4e4f-a8e0-ea060940be04"
      },
      "execution_count": 143,
      "outputs": [
        {
          "output_type": "display_data",
          "data": {
            "text/plain": [
              "<Figure size 1440x576 with 2 Axes>"
            ],
            "image/png": "[encoded data removed]"
          },
          "metadata": {
            "needs_background": "light"
          }
        }
      ]
    },
    {
      "cell_type": "code",
      "source": [
        "zscores = pd.read_csv('matrix2.csv')\n",
        "my_data = zscores[zscores.columns[1:]].to_numpy()\n",
        "zscores = zscores.set_index(zscores.columns[0])\n",
        "S1 = CreateSimilarityMatrix(my_data, 'row')\n",
        "S2 = CreateSimilarityMatrix(my_data, 'col')\n",
        "\n",
        "NoofRows = S1.shape[0]\n",
        "NoofCols = S2.shape[0]\n",
        "\n",
        "randomization = 0\n",
        "T = 10\n",
        "factor = 0.9\n",
        "\n",
        "kernelOrder_rows, simMat_rows = OrderKernel(S1,randomization, T, factor)\n",
        "kernelOrder_cols, simMat_cols = OrderKernel(S2,randomization, T, factor)\n",
        "\n",
        "row_labels = zscores.index.to_numpy()\n",
        "col_labels = zscores.columns.to_numpy()\n",
        "\n",
        "partition_rows = FindBestPartitionBIC(simMat_rows, NoofRows)\n",
        "partition_cols = FindBestPartitionBIC(simMat_cols, NoofCols)"
      ],
      "metadata": {
        "id": "CQZ3FFiiYIE6"
      },
      "execution_count": 144,
      "outputs": []
    },
    {
      "cell_type": "markdown",
      "source": [
        "## Clusters: Rows"
      ],
      "metadata": {
        "id": "zsPAd1cJ2Yqy"
      }
    },
    {
      "cell_type": "code",
      "source": [
        "VisualizeClusters(S1, simMat_rows, row_labels,kernelOrder_rows, partition_rows, save= True, filename= 'rows.png')"
      ],
      "metadata": {
        "colab": {
          "base_uri": "https://localhost:8080/",
          "height": 488
        },
        "id": "Dhujpg7q2VBM",
        "outputId": "7911c2e2-91d1-4220-e1ef-eff269cb0ae3"
      },
      "execution_count": 145,
      "outputs": [
        {
          "output_type": "display_data",
          "data": {
            "text/plain": [
              "<Figure size 1440x576 with 4 Axes>"
            ],
            "image/png": "[encoded data removed]"
          },
          "metadata": {
            "needs_background": "light"
          }
        }
      ]
    },
    {
      "cell_type": "markdown",
      "source": [
        "## Clusters: Columns"
      ],
      "metadata": {
        "id": "726-F5rW2eUh"
      }
    },
    {
      "cell_type": "code",
      "source": [
        "VisualizeClusters(S2, simMat_cols, col_labels,kernelOrder_cols, partition_cols, save= True, filename= 'cols.png')"
      ],
      "metadata": {
        "colab": {
          "base_uri": "https://localhost:8080/",
          "height": 486
        },
        "id": "1y1C3-6qiA7X",
        "outputId": "052b4716-6631-4c93-f650-93f378c1e579"
      },
      "execution_count": 146,
      "outputs": [
        {
          "output_type": "display_data",
          "data": {
            "text/plain": [
              "<Figure size 1440x576 with 4 Axes>"
            ],
            "image/png": "[encoded data removed]"
          },
          "metadata": {
            "needs_background": "light"
          }
        }
      ]
    },
    {
      "cell_type": "code",
      "source": [
        "import scipy.io as sio\n",
        "test = sio.loadmat('test.mat')\n",
        "test"
      ],
      "metadata": {
        "colab": {
          "base_uri": "https://localhost:8080/"
        },
        "id": "yhez-7hyrOce",
        "outputId": "daad42fc-75c0-42fa-c394-cd5bc3bafc00"
      },
      "execution_count": 147,
      "outputs": [
        {
          "output_type": "execute_result",
          "data": {
            "text/plain": [
              "{'CONDITIONS': array([[ 1.        ,  0.61313886,  0.74715221, -0.71636208, -0.03274664,\n",
              "          0.7346948 ,  0.30257088],\n",
              "        [ 0.61313886,  1.        ,  0.93389826, -0.58123793,  0.31257979,\n",
              "          0.9622477 ,  0.7912611 ],\n",
              "        [ 0.74715221,  0.93389826,  1.        , -0.56216608,  0.39157323,\n",
              "          0.97817212,  0.72905264],\n",
              "        [-0.71636208, -0.58123793, -0.56216608,  1.        ,  0.18299371,\n",
              "         -0.60337225, -0.1226989 ],\n",
              "        [-0.03274664,  0.31257979,  0.39157323,  0.18299371,  1.        ,\n",
              "          0.29002621,  0.28000997],\n",
              "        [ 0.7346948 ,  0.9622477 ,  0.97817212, -0.60337225,  0.29002621,\n",
              "          1.        ,  0.78775622],\n",
              "        [ 0.30257088,  0.7912611 ,  0.72905264, -0.1226989 ,  0.28000997,\n",
              "          0.78775622,  1.        ]]),\n",
              " 'PROPERTIES': array([[ 1.        ,  0.9268125 , -0.56471403, -0.32423952,  0.57774901,\n",
              "         -0.01861461, -0.49250742, -0.27303146],\n",
              "        [ 0.9268125 ,  1.        , -0.61991487, -0.49265478,  0.38762843,\n",
              "         -0.20900296, -0.38551269, -0.4096547 ],\n",
              "        [-0.56471403, -0.61991487,  1.        ,  0.31312034, -0.09807124,\n",
              "          0.07239683,  0.25354664, -0.08930294],\n",
              "        [-0.32423952, -0.49265478,  0.31312034,  1.        ,  0.34978506,\n",
              "          0.93425496, -0.52336439,  0.04273647],\n",
              "        [ 0.57774901,  0.38762843, -0.09807124,  0.34978506,  1.        ,\n",
              "          0.55070336, -0.78046366, -0.0104236 ],\n",
              "        [-0.01861461, -0.20900296,  0.07239683,  0.93425496,  0.55070336,\n",
              "          1.        , -0.77512322, -0.0147694 ],\n",
              "        [-0.49250742, -0.38551269,  0.25354664, -0.52336439, -0.78046366,\n",
              "         -0.77512322,  1.        ,  0.27194957],\n",
              "        [-0.27303146, -0.4096547 , -0.08930294,  0.04273647, -0.0104236 ,\n",
              "         -0.0147694 ,  0.27194957,  1.        ]]),\n",
              " 'ZSCORE': array([[-0.07541683, -0.01365557,  0.44593602,  0.79373281,  0.80450642,\n",
              "          0.32234442, -0.38163239, -0.24580831],\n",
              "        [-0.42474635, -0.51503978, -0.11021505,  2.37362799, -0.15733062,\n",
              "          1.22730173, -0.47575305,  0.09630045],\n",
              "        [-0.23129998, -0.55251914,  0.52151995,  2.44397679,  0.41647941,\n",
              "          0.97255515, -0.09330676,  0.32967069],\n",
              "        [-0.68984259, -0.80830572,  0.53848247, -1.39947538, -1.26240242,\n",
              "         -1.26290819,  1.02174023,  0.11115925],\n",
              "        [-0.25897247, -0.36897386, -0.2044631 ,  0.29489446,  0.09769559,\n",
              "         -0.13653575,  0.35307379,  0.41868313],\n",
              "        [-0.11972173, -0.4723272 ,  0.26490996,  2.31901774,  0.21514295,\n",
              "          0.99336032, -0.14813551, -0.13254794],\n",
              "        [-0.31235794, -0.18349734,  0.16895476,  1.25135423, -0.65613791,\n",
              "          0.18309792,  0.21129022, -0.29161615]]),\n",
              " '__globals__': [],\n",
              " '__header__': b'MATLAB 5.0 MAT-file, Platform: PCWIN64, Created on: Fri Jan 28 20:36:19 2022',\n",
              " '__version__': '1.0'}"
            ]
          },
          "metadata": {},
          "execution_count": 147
        }
      ]
    },
    {
      "cell_type": "code",
      "source": [
        ""
      ],
      "metadata": {
        "id": "0Zhk3HHO1rj0"
      },
      "execution_count": 147,
      "outputs": []
    }
  ]
}
